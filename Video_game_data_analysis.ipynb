{
  "nbformat": 4,
  "nbformat_minor": 0,
  "metadata": {
    "kernelspec": {
      "display_name": "Python 3",
      "language": "python",
      "name": "python3"
    },
    "language_info": {
      "codemirror_mode": {
        "name": "ipython",
        "version": 3
      },
      "file_extension": ".py",
      "mimetype": "text/x-python",
      "name": "python",
      "nbconvert_exporter": "python",
      "pygments_lexer": "ipython3",
      "version": "3.7.6"
    },
    "colab": {
      "name": "Video game data analysis",
      "provenance": []
    }
  },
  "cells": [
    {
      "cell_type": "markdown",
      "metadata": {
        "id": "z0xAwRScWxFY"
      },
      "source": [
        "### Step 1. Open the data file and study the general information"
      ]
    },
    {
      "cell_type": "code",
      "metadata": {
        "scrolled": true,
        "id": "D9-SvjfVWxFY",
        "outputId": "32f5740c-bb65-4ea3-8397-2052aa04de8a"
      },
      "source": [
        "import pandas as pd\n",
        "data=pd.read_csv('/datasets/games.csv')\n",
        "#print(data.head(10))\n",
        "print(data.info)\n",
        "print(data.duplicated().sum())\n",
        "print(data.isnull().sum())\n",
        "print(data.dtypes)"
      ],
      "execution_count": null,
      "outputs": [
        {
          "output_type": "stream",
          "text": [
            "<bound method DataFrame.info of                                 Name Platform  Year_of_Release         Genre  \\\n",
            "0                         Wii Sports      Wii           2006.0        Sports   \n",
            "1                  Super Mario Bros.      NES           1985.0      Platform   \n",
            "2                     Mario Kart Wii      Wii           2008.0        Racing   \n",
            "3                  Wii Sports Resort      Wii           2009.0        Sports   \n",
            "4           Pokemon Red/Pokemon Blue       GB           1996.0  Role-Playing   \n",
            "...                              ...      ...              ...           ...   \n",
            "16710  Samurai Warriors: Sanada Maru      PS3           2016.0        Action   \n",
            "16711               LMA Manager 2007     X360           2006.0        Sports   \n",
            "16712        Haitaka no Psychedelica      PSV           2016.0     Adventure   \n",
            "16713               Spirits & Spells      GBA           2003.0      Platform   \n",
            "16714            Winning Post 8 2016      PSV           2016.0    Simulation   \n",
            "\n",
            "       NA_sales  EU_sales  JP_sales  Other_sales  Critic_Score User_Score  \\\n",
            "0         41.36     28.96      3.77         8.45          76.0          8   \n",
            "1         29.08      3.58      6.81         0.77           NaN        NaN   \n",
            "2         15.68     12.76      3.79         3.29          82.0        8.3   \n",
            "3         15.61     10.93      3.28         2.95          80.0          8   \n",
            "4         11.27      8.89     10.22         1.00           NaN        NaN   \n",
            "...         ...       ...       ...          ...           ...        ...   \n",
            "16710      0.00      0.00      0.01         0.00           NaN        NaN   \n",
            "16711      0.00      0.01      0.00         0.00           NaN        NaN   \n",
            "16712      0.00      0.00      0.01         0.00           NaN        NaN   \n",
            "16713      0.01      0.00      0.00         0.00           NaN        NaN   \n",
            "16714      0.00      0.00      0.01         0.00           NaN        NaN   \n",
            "\n",
            "      Rating  \n",
            "0          E  \n",
            "1        NaN  \n",
            "2          E  \n",
            "3          E  \n",
            "4        NaN  \n",
            "...      ...  \n",
            "16710    NaN  \n",
            "16711    NaN  \n",
            "16712    NaN  \n",
            "16713    NaN  \n",
            "16714    NaN  \n",
            "\n",
            "[16715 rows x 11 columns]>\n",
            "0\n",
            "Name                  2\n",
            "Platform              0\n",
            "Year_of_Release     269\n",
            "Genre                 2\n",
            "NA_sales              0\n",
            "EU_sales              0\n",
            "JP_sales              0\n",
            "Other_sales           0\n",
            "Critic_Score       8578\n",
            "User_Score         6701\n",
            "Rating             6766\n",
            "dtype: int64\n",
            "Name                object\n",
            "Platform            object\n",
            "Year_of_Release    float64\n",
            "Genre               object\n",
            "NA_sales           float64\n",
            "EU_sales           float64\n",
            "JP_sales           float64\n",
            "Other_sales        float64\n",
            "Critic_Score       float64\n",
            "User_Score          object\n",
            "Rating              object\n",
            "dtype: object\n"
          ],
          "name": "stdout"
        }
      ]
    },
    {
      "cell_type": "markdown",
      "metadata": {
        "id": "ydKoBaOVWxFZ"
      },
      "source": [
        "1. The data has 16715 rows and 11 columns. \n",
        "2. There are no duplicate values in the data.\n",
        "3. There are 2 missing values in Name and gener. These rows can be deleted as the no is very small compared to full dataset.\n",
        "4. The missing values in Critic_score, user_score and rating columns are very high hence we have to find a way to fill these null values."
      ]
    },
    {
      "cell_type": "markdown",
      "metadata": {
        "id": "PlXzhpGLWxFZ"
      },
      "source": [
        "### Step 2. Prepare the data"
      ]
    },
    {
      "cell_type": "code",
      "metadata": {
        "scrolled": true,
        "id": "31iky38SWxFa",
        "outputId": "09e0210e-7097-41d9-d8c4-41277f0890d7"
      },
      "source": [
        "#Replacing column names with lwercase values\n",
        "data.columns=data.columns.str.lower()\n",
        "\n",
        "#Deleting 2 null values in name column\n",
        "data.dropna(subset=['name'], inplace=True)\n",
        "print(data.dtypes)\n",
        "\n",
        "#Handling missing values and changing data types\n",
        "data['year_of_release']=data['year_of_release'].fillna(0).astype('int')\n",
        "data['critic_score']=data['critic_score'].fillna(-1).astype('int')\n",
        "print(len(data.loc[data['user_score']=='tbd']))\n",
        "data.loc[data['user_score']=='tbd','user_score']=-1\n",
        "data['user_score']=data['user_score'].fillna(-1).astype('float')\n",
        "\n",
        "#Adding total sales column\n",
        "data['total_sales']=data['na_sales']+data['eu_sales']+data['jp_sales']+data['other_sales']\n",
        "print(data.head())\n"
      ],
      "execution_count": null,
      "outputs": [
        {
          "output_type": "stream",
          "text": [
            "name                object\n",
            "platform            object\n",
            "year_of_release    float64\n",
            "genre               object\n",
            "na_sales           float64\n",
            "eu_sales           float64\n",
            "jp_sales           float64\n",
            "other_sales        float64\n",
            "critic_score       float64\n",
            "user_score          object\n",
            "rating              object\n",
            "dtype: object\n",
            "2424\n",
            "                       name platform  year_of_release         genre  na_sales  \\\n",
            "0                Wii Sports      Wii             2006        Sports     41.36   \n",
            "1         Super Mario Bros.      NES             1985      Platform     29.08   \n",
            "2            Mario Kart Wii      Wii             2008        Racing     15.68   \n",
            "3         Wii Sports Resort      Wii             2009        Sports     15.61   \n",
            "4  Pokemon Red/Pokemon Blue       GB             1996  Role-Playing     11.27   \n",
            "\n",
            "   eu_sales  jp_sales  other_sales  critic_score  user_score rating  \\\n",
            "0     28.96      3.77         8.45            76         8.0      E   \n",
            "1      3.58      6.81         0.77            -1        -1.0    NaN   \n",
            "2     12.76      3.79         3.29            82         8.3      E   \n",
            "3     10.93      3.28         2.95            80         8.0      E   \n",
            "4      8.89     10.22         1.00            -1        -1.0    NaN   \n",
            "\n",
            "   total_sales  \n",
            "0        82.54  \n",
            "1        40.24  \n",
            "2        35.52  \n",
            "3        32.77  \n",
            "4        31.38  \n"
          ],
          "name": "stdout"
        }
      ]
    },
    {
      "cell_type": "markdown",
      "metadata": {
        "id": "sGLOLdI9WxFa"
      },
      "source": [
        "1. Changed column names to lower case\n",
        "2. Deleted 2 null values in 'name' column as the no is very small\n",
        "3. Changed data type for year_of_release column to int type since the column holds release year\n",
        "4. Changed critic score to int type as it holds integer values. Null values are replaced with -1.\n",
        "5. Changed user_score to float type because it contains float values. In this column, I considered 'tdb' as null values. Hence all null values and 'tbd' was replaced with -1. \n",
        "6. Considering null values shift the mean and median, hence filled them with -1, which can be easily filtered out while doing further analysis.\n",
        "\n",
        "Missing values in critic_score and user_score column could be because of:\n",
        "1. Either the release year is old and hence the data is not available\n",
        "2. The album is very recent release, hence the score is not yet generated"
      ]
    },
    {
      "cell_type": "markdown",
      "metadata": {
        "id": "FOkipvTgWxFb"
      },
      "source": [
        "### Step 3. Analyze the data"
      ]
    },
    {
      "cell_type": "markdown",
      "metadata": {
        "id": "nocmkD1lWxFb"
      },
      "source": [
        "#### 3a. Look at how many games were released in different years. Is the data for every period significant?"
      ]
    },
    {
      "cell_type": "code",
      "metadata": {
        "scrolled": true,
        "id": "hEp41F27WxFb",
        "outputId": "059de843-a728-4fdd-ebba-7a9f96d850d9"
      },
      "source": [
        "data_by_year=data.query('year_of_release>0').groupby('year_of_release')['name'].count()\n",
        "print(data_by_year)\n",
        "data_by_year.plot(kind='bar', x='year_of_release', y='name', figsize=(12,5), label='No of release', legend=True)"
      ],
      "execution_count": null,
      "outputs": [
        {
          "output_type": "stream",
          "text": [
            "year_of_release\n",
            "1980       9\n",
            "1981      46\n",
            "1982      36\n",
            "1983      17\n",
            "1984      14\n",
            "1985      14\n",
            "1986      21\n",
            "1987      16\n",
            "1988      15\n",
            "1989      17\n",
            "1990      16\n",
            "1991      41\n",
            "1992      43\n",
            "1993      60\n",
            "1994     121\n",
            "1995     219\n",
            "1996     263\n",
            "1997     289\n",
            "1998     379\n",
            "1999     338\n",
            "2000     350\n",
            "2001     482\n",
            "2002     829\n",
            "2003     775\n",
            "2004     762\n",
            "2005     939\n",
            "2006    1006\n",
            "2007    1197\n",
            "2008    1427\n",
            "2009    1426\n",
            "2010    1255\n",
            "2011    1136\n",
            "2012     653\n",
            "2013     544\n",
            "2014     581\n",
            "2015     606\n",
            "2016     502\n",
            "Name: name, dtype: int64\n"
          ],
          "name": "stdout"
        },
        {
          "output_type": "execute_result",
          "data": {
            "text/plain": [
              "<matplotlib.axes._subplots.AxesSubplot at 0x7f30537f1410>"
            ]
          },
          "metadata": {
            "tags": []
          },
          "execution_count": 29
        },
        {
          "output_type": "display_data",
          "data": {
            "image/png": "[encoded data removed]",
            "text/plain": [
              "<Figure size 864x360 with 1 Axes>"
            ]
          },
          "metadata": {
            "tags": [],
            "needs_background": "light"
          }
        }
      ]
    },
    {
      "cell_type": "markdown",
      "metadata": {
        "id": "UgkRp_RGWxFc"
      },
      "source": [
        "1. The no of games released were significantly low before 2000. The no significantly increased from 2002 with maximum no of releases in 2008 and 2009. However the no of releases again declined in 2012."
      ]
    },
    {
      "cell_type": "markdown",
      "metadata": {
        "id": "xVbC0QIzWxFc"
      },
      "source": [
        "#### 3b.Look at how sales varied from platform to platform (Identifying the top platforms based on total sales)"
      ]
    },
    {
      "cell_type": "code",
      "metadata": {
        "scrolled": true,
        "id": "nz-n3ELkWxFc",
        "outputId": "2aa5a943-2daf-4428-e0a0-587c1561df1c"
      },
      "source": [
        "data_by_platform=data.groupby('platform')['total_sales'].sum().reset_index()\n",
        "data_by_platform=data_by_platform.sort_values(by='total_sales', ascending=False)\n",
        "print(data_by_platform)"
      ],
      "execution_count": null,
      "outputs": [
        {
          "output_type": "stream",
          "text": [
            "   platform  total_sales\n",
            "16      PS2      1255.77\n",
            "28     X360       971.42\n",
            "17      PS3       939.65\n",
            "26      Wii       907.51\n",
            "4        DS       806.12\n",
            "15       PS       730.86\n",
            "6       GBA       317.85\n",
            "18      PS4       314.14\n",
            "19      PSP       294.05\n",
            "13       PC       259.52\n",
            "2       3DS       259.00\n",
            "29       XB       257.74\n",
            "5        GB       255.46\n",
            "11      NES       251.05\n",
            "10      N64       218.68\n",
            "23     SNES       200.04\n",
            "7        GC       198.93\n",
            "30     XOne       159.32\n",
            "0      2600        96.98\n",
            "27     WiiU        82.19\n",
            "20      PSV        54.07\n",
            "21      SAT        33.59\n",
            "8       GEN        28.35\n",
            "3        DC        15.95\n",
            "22      SCD         1.86\n",
            "12       NG         1.44\n",
            "25       WS         1.42\n",
            "24     TG16         0.16\n",
            "1       3DO         0.10\n",
            "9        GG         0.04\n",
            "14     PCFX         0.03\n"
          ],
          "name": "stdout"
        }
      ]
    },
    {
      "cell_type": "markdown",
      "metadata": {
        "id": "43hDr3MoWxFd"
      },
      "source": [
        "#### 3b.Plotting bar charts for platforms with top5 total_sales"
      ]
    },
    {
      "cell_type": "code",
      "metadata": {
        "scrolled": true,
        "id": "tj8uB0O0WxFd",
        "outputId": "d3358592-85b1-496b-f7cd-71f766dd410a"
      },
      "source": [
        "data_ps2=data.query('platform==\"PS2\" and year_of_release>0').groupby('year_of_release')['total_sales'].sum()\n",
        "data_ps2.plot(kind='bar', x='year_of_release', y='total_sales', figsize=(12,5), label='PS2', legend=True)\n"
      ],
      "execution_count": null,
      "outputs": [
        {
          "output_type": "execute_result",
          "data": {
            "text/plain": [
              "<matplotlib.axes._subplots.AxesSubplot at 0x7f304fe6f050>"
            ]
          },
          "metadata": {
            "tags": []
          },
          "execution_count": 31
        },
        {
          "output_type": "display_data",
          "data": {
            "image/png": "[encoded data removed]",
            "text/plain": [
              "<Figure size 864x360 with 1 Axes>"
            ]
          },
          "metadata": {
            "tags": [],
            "needs_background": "light"
          }
        }
      ]
    },
    {
      "cell_type": "code",
      "metadata": {
        "scrolled": true,
        "id": "R8sNZsHlWxFd",
        "outputId": "d6742b4b-9bda-48c5-f663-3c72e910e0b2"
      },
      "source": [
        "data_x360=data.query('platform==\"X360\" and year_of_release>0').groupby('year_of_release')['total_sales'].sum()\n",
        "data_x360.plot(kind='bar', x='year_of_release', y='total_sales', figsize=(12,5), label='X360', legend=True)\n"
      ],
      "execution_count": null,
      "outputs": [
        {
          "output_type": "execute_result",
          "data": {
            "text/plain": [
              "<matplotlib.axes._subplots.AxesSubplot at 0x7f30462c2c50>"
            ]
          },
          "metadata": {
            "tags": []
          },
          "execution_count": 32
        },
        {
          "output_type": "display_data",
          "data": {
            "image/png": "[encoded data removed]",
            "text/plain": [
              "<Figure size 864x360 with 1 Axes>"
            ]
          },
          "metadata": {
            "tags": [],
            "needs_background": "light"
          }
        }
      ]
    },
    {
      "cell_type": "code",
      "metadata": {
        "scrolled": true,
        "id": "l1QRth2QWxFe",
        "outputId": "24a88e70-9675-4223-84fb-e9f98c905b7f"
      },
      "source": [
        "data_ps3=data.query('platform==\"PS3\" and year_of_release>0').groupby('year_of_release')['total_sales'].sum()\n",
        "data_ps3.plot(kind='bar', x='year_of_release', y='total_sales', figsize=(12,5), label='PS3', legend=True)"
      ],
      "execution_count": null,
      "outputs": [
        {
          "output_type": "execute_result",
          "data": {
            "text/plain": [
              "<matplotlib.axes._subplots.AxesSubplot at 0x7f3046268450>"
            ]
          },
          "metadata": {
            "tags": []
          },
          "execution_count": 33
        },
        {
          "output_type": "display_data",
          "data": {
            "image/png": "[encoded data removed]",
            "text/plain": [
              "<Figure size 864x360 with 1 Axes>"
            ]
          },
          "metadata": {
            "tags": [],
            "needs_background": "light"
          }
        }
      ]
    },
    {
      "cell_type": "code",
      "metadata": {
        "scrolled": true,
        "id": "QpObAWh7WxFe",
        "outputId": "dd725310-4759-456e-c141-d88be2523c82"
      },
      "source": [
        "data_wii=data.query('platform==\"Wii\" and year_of_release>0').groupby('year_of_release')['total_sales'].sum()\n",
        "data_wii.plot(kind='bar', x='year_of_release', y='total_sales', figsize=(12,5), label='Wii', legend=True)"
      ],
      "execution_count": null,
      "outputs": [
        {
          "output_type": "execute_result",
          "data": {
            "text/plain": [
              "<matplotlib.axes._subplots.AxesSubplot at 0x7f30461f4c90>"
            ]
          },
          "metadata": {
            "tags": []
          },
          "execution_count": 34
        },
        {
          "output_type": "display_data",
          "data": {
            "image/png": "[encoded data removed]",
            "text/plain": [
              "<Figure size 864x360 with 1 Axes>"
            ]
          },
          "metadata": {
            "tags": [],
            "needs_background": "light"
          }
        }
      ]
    },
    {
      "cell_type": "code",
      "metadata": {
        "scrolled": true,
        "id": "hRfg_V5KWxFe",
        "outputId": "66dbbb55-d3e2-4afe-c6ef-65fb1e5a18c1"
      },
      "source": [
        "data_ds=data.query('platform==\"DS\" and year_of_release>0').groupby('year_of_release')['total_sales'].sum()\n",
        "data_ds.plot(kind='bar', x='year_of_release', y='total_sales', figsize=(12,5), label='DS', legend=True)"
      ],
      "execution_count": null,
      "outputs": [
        {
          "output_type": "execute_result",
          "data": {
            "text/plain": [
              "<matplotlib.axes._subplots.AxesSubplot at 0x7f30460ec9d0>"
            ]
          },
          "metadata": {
            "tags": []
          },
          "execution_count": 35
        },
        {
          "output_type": "display_data",
          "data": {
            "image/png": "[encoded data removed]",
            "text/plain": [
              "<Figure size 864x360 with 1 Axes>"
            ]
          },
          "metadata": {
            "tags": [],
            "needs_background": "light"
          }
        }
      ]
    },
    {
      "cell_type": "markdown",
      "metadata": {
        "id": "kohoqR1lWxFf"
      },
      "source": [
        "#### 3b.Finding platforms that used to be popular but now have zero sales."
      ]
    },
    {
      "cell_type": "code",
      "metadata": {
        "scrolled": true,
        "id": "2zeOcWOpWxFf",
        "outputId": "af4950bc-9cbc-45fd-f0e6-3fea12617d05"
      },
      "source": [
        "data_top10=data_by_platform['platform'].head(10)\n",
        "data_by_platform_year=data.query('platform in @data_top10 and year_of_release>0').pivot_table(index='platform',columns='year_of_release', values='total_sales', aggfunc='sum')\n",
        "print(data_by_platform_year)"
      ],
      "execution_count": null,
      "outputs": [
        {
          "output_type": "stream",
          "text": [
            "year_of_release  1985  1988  1992   1994   1995   1996    1997    1998  \\\n",
            "platform                                                                 \n",
            "DS               0.02   NaN   NaN    NaN    NaN    NaN     NaN     NaN   \n",
            "GBA               NaN   NaN   NaN    NaN    NaN    NaN     NaN     NaN   \n",
            "PC               0.04  0.03  3.03  12.87   4.22  10.58   11.27    3.26   \n",
            "PS                NaN   NaN   NaN   6.03  35.96  94.70  136.17  169.49   \n",
            "PS2               NaN   NaN   NaN    NaN    NaN    NaN     NaN     NaN   \n",
            "PS3               NaN   NaN   NaN    NaN    NaN    NaN     NaN     NaN   \n",
            "PS4               NaN   NaN   NaN    NaN    NaN    NaN     NaN     NaN   \n",
            "PSP               NaN   NaN   NaN    NaN    NaN    NaN     NaN     NaN   \n",
            "Wii               NaN   NaN   NaN    NaN    NaN    NaN     NaN     NaN   \n",
            "X360              NaN   NaN   NaN    NaN    NaN    NaN     NaN     NaN   \n",
            "\n",
            "year_of_release    1999   2000  ...    2007    2008    2009    2010    2011  \\\n",
            "platform                        ...                                           \n",
            "DS                  NaN    NaN  ...  146.94  145.31  119.54   85.02   26.18   \n",
            "GBA                 NaN   0.07  ...    3.40     NaN     NaN     NaN     NaN   \n",
            "PC                 4.74   4.66  ...    9.28   12.42   16.91   24.28   35.03   \n",
            "PS               144.53  96.37  ...     NaN     NaN     NaN     NaN     NaN   \n",
            "PS2                 NaN  39.17  ...   75.99   53.90   26.40    5.64    0.45   \n",
            "PS3                 NaN    NaN  ...   73.19  118.52  130.93  142.17  156.78   \n",
            "PS4                 NaN    NaN  ...     NaN     NaN     NaN     NaN     NaN   \n",
            "PSP                 NaN    NaN  ...   46.93   34.55   37.78   35.04   17.82   \n",
            "Wii                 NaN    NaN  ...  152.77  171.32  206.97  127.95   59.65   \n",
            "X360                NaN    NaN  ...   95.41  135.26  120.29  170.03  143.84   \n",
            "\n",
            "year_of_release    2012    2013    2014    2015   2016  \n",
            "platform                                                \n",
            "DS                11.01    1.54     NaN     NaN    NaN  \n",
            "GBA                 NaN     NaN     NaN     NaN    NaN  \n",
            "PC                23.22   12.38   13.28    8.52   5.25  \n",
            "PS                  NaN     NaN     NaN     NaN    NaN  \n",
            "PS2                 NaN     NaN     NaN     NaN    NaN  \n",
            "PS3              107.36  113.25   47.76   16.82   3.60  \n",
            "PS4                 NaN   25.99  100.00  118.90  69.25  \n",
            "PSP                7.69    3.14    0.24    0.12    NaN  \n",
            "Wii               21.71    8.59    3.75    1.14   0.18  \n",
            "X360              99.74   88.58   34.74   11.96   1.52  \n",
            "\n",
            "[10 rows x 26 columns]\n"
          ],
          "name": "stdout"
        }
      ]
    },
    {
      "cell_type": "markdown",
      "metadata": {
        "id": "-UoxMfHeWxFf"
      },
      "source": [
        "1. The bar plots for the top5 pltaforms show that it takes approx. 10 years for a new platform to emerge and the old ones to fade out. However one exception to this is PC platfrom which is existing from 1985 and still has sales in 2016.\n",
        "2. Of the top10 total sales platforms, PS4 is the latest launch (in 2013) and has significant sales in 2016. Rest all others have minimum or no sales. PS3 also has some sales, but the sales are declining with the launch of PS4. "
      ]
    },
    {
      "cell_type": "markdown",
      "metadata": {
        "id": "FUmN-jcYWxFg"
      },
      "source": [
        "#### 3c.Determine what period you should take data for. To do so, look at your answers to the previous questions. The data should allow you to build a prognosis for 2017."
      ]
    },
    {
      "cell_type": "markdown",
      "metadata": {
        "id": "98egY73DWxFg"
      },
      "source": [
        "1. Based on the no of games released in different years, data should be considered from year 2001. Before 2001, the no of releases were very low."
      ]
    },
    {
      "cell_type": "markdown",
      "metadata": {
        "id": "BYgbqKbRWxFh"
      },
      "source": [
        "#### 3d. Work only with the data that you've decided is relevant. Disregard the data for previous years."
      ]
    },
    {
      "cell_type": "code",
      "metadata": {
        "id": "3BC7kwObWxFh"
      },
      "source": [
        "data_new=data.query('year_of_release>2000')"
      ],
      "execution_count": null,
      "outputs": []
    },
    {
      "cell_type": "markdown",
      "metadata": {
        "id": "FLGSdfTYWxFh"
      },
      "source": [
        "#### 3e.Which platforms are leading in sales? Which ones are growing or shrinking? Select several potentially profitable platforms."
      ]
    },
    {
      "cell_type": "code",
      "metadata": {
        "scrolled": true,
        "id": "5BsQbsaeWxFh",
        "outputId": "75224551-eee4-42db-c81b-612599553753"
      },
      "source": [
        "data_pivot=data_new.pivot_table(index='platform',columns='year_of_release', values='total_sales', aggfunc='sum', fill_value=0)\n",
        "data_pivot['p2014']=data_pivot[2014]/data_pivot[2014].sum()\n",
        "data_pivot['p2015']=data_pivot[2015]/data_pivot[2015].sum()\n",
        "data_pivot['p2016']=data_pivot[2016]/data_pivot[2016].sum()\n",
        "print(data_pivot)"
      ],
      "execution_count": null,
      "outputs": [
        {
          "output_type": "stream",
          "text": [
            "year_of_release    2001    2002    2003    2004    2005    2006    2007  \\\n",
            "platform                                                                  \n",
            "3DS                0.00    0.00    0.00    0.00    0.00    0.00    0.00   \n",
            "DC                 1.07    0.29    0.00    0.00    0.00    0.00    0.02   \n",
            "DS                 0.00    0.00    0.00   17.27  130.14  119.81  146.94   \n",
            "GB                 9.24    0.00    0.00    0.00    0.00    0.00    0.00   \n",
            "GBA               61.53   74.16   56.67   77.91   33.86    5.28    3.40   \n",
            "GC                26.34   51.81   50.61   28.82   27.62   11.26    0.27   \n",
            "N64                3.25    0.08    0.00    0.00    0.00    0.00    0.00   \n",
            "PC                 5.47    8.57    8.84   10.39    4.37    2.85    9.28   \n",
            "PS                35.59    6.67    2.07    0.00    0.00    0.00    0.00   \n",
            "PS2              166.43  205.38  184.31  211.81  160.66  103.42   75.99   \n",
            "PS3                0.00    0.00    0.00    0.00    0.00   20.96   73.19   \n",
            "PS4                0.00    0.00    0.00    0.00    0.00    0.00    0.00   \n",
            "PSP                0.00    0.00    0.00    7.06   43.84   55.32   46.93   \n",
            "PSV                0.00    0.00    0.00    0.00    0.00    0.00    0.00   \n",
            "WS                 0.28    0.00    0.00    0.00    0.00    0.00    0.00   \n",
            "Wii                0.00    0.00    0.00    0.00    0.00  137.15  152.77   \n",
            "WiiU               0.00    0.00    0.00    0.00    0.00    0.00    0.00   \n",
            "X360               0.00    0.00    0.00    0.00    8.25   51.62   95.41   \n",
            "XB                22.26   48.01   55.04   65.42   49.08   10.04    0.55   \n",
            "XOne               0.00    0.00    0.00    0.00    0.00    0.00    0.00   \n",
            "\n",
            "year_of_release    2008    2009    2010    2011    2012    2013    2014  \\\n",
            "platform                                                                  \n",
            "3DS                0.00    0.00    0.00   63.20   51.36   56.57   43.76   \n",
            "DC                 0.04    0.00    0.00    0.00    0.00    0.00    0.00   \n",
            "DS               145.31  119.54   85.02   26.18   11.01    1.54    0.00   \n",
            "GB                 0.00    0.00    0.00    0.00    0.00    0.00    0.00   \n",
            "GBA                0.00    0.00    0.00    0.00    0.00    0.00    0.00   \n",
            "GC                 0.00    0.00    0.00    0.00    0.00    0.00    0.00   \n",
            "N64                0.00    0.00    0.00    0.00    0.00    0.00    0.00   \n",
            "PC                12.42   16.91   24.28   35.03   23.22   12.38   13.28   \n",
            "PS                 0.00    0.00    0.00    0.00    0.00    0.00    0.00   \n",
            "PS2               53.90   26.40    5.64    0.45    0.00    0.00    0.00   \n",
            "PS3              118.52  130.93  142.17  156.78  107.36  113.25   47.76   \n",
            "PS4                0.00    0.00    0.00    0.00    0.00   25.99  100.00   \n",
            "PSP               34.55   37.78   35.04   17.82    7.69    3.14    0.24   \n",
            "PSV                0.00    0.00    0.00    4.63   16.19   10.59   11.90   \n",
            "WS                 0.00    0.00    0.00    0.00    0.00    0.00    0.00   \n",
            "Wii              171.32  206.97  127.95   59.65   21.71    8.59    3.75   \n",
            "WiiU               0.00    0.00    0.00    0.00   17.56   21.65   22.03   \n",
            "X360             135.26  120.29  170.03  143.84   99.74   88.58   34.74   \n",
            "XB                 0.18    0.00    0.00    0.00    0.00    0.00    0.00   \n",
            "XOne               0.00    0.00    0.00    0.00    0.00   18.96   54.07   \n",
            "\n",
            "year_of_release    2015   2016     p2014     p2015     p2016  \n",
            "platform                                                      \n",
            "3DS               27.78  15.14  0.131994  0.103664  0.116515  \n",
            "DC                 0.00   0.00  0.000000  0.000000  0.000000  \n",
            "DS                 0.00   0.00  0.000000  0.000000  0.000000  \n",
            "GB                 0.00   0.00  0.000000  0.000000  0.000000  \n",
            "GBA                0.00   0.00  0.000000  0.000000  0.000000  \n",
            "GC                 0.00   0.00  0.000000  0.000000  0.000000  \n",
            "N64                0.00   0.00  0.000000  0.000000  0.000000  \n",
            "PC                 8.52   5.25  0.040057  0.031793  0.040403  \n",
            "PS                 0.00   0.00  0.000000  0.000000  0.000000  \n",
            "PS2                0.00   0.00  0.000000  0.000000  0.000000  \n",
            "PS3               16.82   3.60  0.144059  0.062766  0.027705  \n",
            "PS4              118.90  69.25  0.301632  0.443690  0.532938  \n",
            "PSP                0.12   0.00  0.000724  0.000448  0.000000  \n",
            "PSV                6.25   4.25  0.035894  0.023323  0.032707  \n",
            "WS                 0.00   0.00  0.000000  0.000000  0.000000  \n",
            "Wii                1.14   0.18  0.011311  0.004254  0.001385  \n",
            "WiiU              16.35   4.60  0.066449  0.061012  0.035401  \n",
            "X360              11.96   1.52  0.104787  0.044630  0.011698  \n",
            "XB                 0.00   0.00  0.000000  0.000000  0.000000  \n",
            "XOne              60.14  26.15  0.163092  0.224420  0.201247  \n"
          ],
          "name": "stdout"
        }
      ]
    },
    {
      "cell_type": "markdown",
      "metadata": {
        "id": "aLfeHK6xWxFi"
      },
      "source": [
        "- 53% sales in 2016 comes from PS4 platform followed by XOne (20%) and 3DS (11.6%). The data for 2016 is not complete, hence calculated the %contribution of different platforms in 2015 sales and the trends are similar to 2016. Except for PS4 and XOne, sales of other platfroms are decreasing in 2015 and 2016."
      ]
    },
    {
      "cell_type": "markdown",
      "metadata": {
        "id": "pIlHlKtsWxFi"
      },
      "source": [
        "#### 3f. Build a box plot for the global sales of all games, broken down by platform. Are the differences in sales significant? What about average sales on various platforms? Describe your findings."
      ]
    },
    {
      "cell_type": "code",
      "metadata": {
        "scrolled": true,
        "id": "AiW8hsQ3WxFi",
        "outputId": "90a0b960-94c6-483c-ebc2-fc36c2426686"
      },
      "source": [
        "import numpy as np\n",
        "import matplotlib.pyplot as plt\n",
        "data_new.boxplot(by='platform', column=['total_sales'], grid=True, figsize=(12,5))"
      ],
      "execution_count": null,
      "outputs": [
        {
          "output_type": "execute_result",
          "data": {
            "text/plain": [
              "<matplotlib.axes._subplots.AxesSubplot at 0x7f30460de790>"
            ]
          },
          "metadata": {
            "tags": []
          },
          "execution_count": 39
        },
        {
          "output_type": "display_data",
          "data": {
            "image/png": "[encoded data removed]",
            "text/plain": [
              "<Figure size 864x360 with 1 Axes>"
            ]
          },
          "metadata": {
            "tags": [],
            "needs_background": "light"
          }
        }
      ]
    },
    {
      "cell_type": "markdown",
      "metadata": {
        "id": "0f4_GhTqWxFj"
      },
      "source": [
        "Plotting the boxplot for individual game sales is difficult to read as most of the games have sales between 0 to 2 million USD. Hence plotting the boxplot again removing outliers."
      ]
    },
    {
      "cell_type": "code",
      "metadata": {
        "scrolled": true,
        "id": "NVmhs9MVWxFj",
        "outputId": "184b034a-aa43-40d1-f481-d0377dcd8ed9"
      },
      "source": [
        "data_out=data_new.query('total_sales<2')\n",
        "data_out.boxplot(by='platform', column=['total_sales'], grid=True, figsize=(12,5))"
      ],
      "execution_count": null,
      "outputs": [
        {
          "output_type": "execute_result",
          "data": {
            "text/plain": [
              "<matplotlib.axes._subplots.AxesSubplot at 0x7f3045c3ebd0>"
            ]
          },
          "metadata": {
            "tags": []
          },
          "execution_count": 41
        },
        {
          "output_type": "display_data",
          "data": {
            "image/png": "[encoded data removed]",
            "text/plain": [
              "<Figure size 864x360 with 1 Axes>"
            ]
          },
          "metadata": {
            "tags": [],
            "needs_background": "light"
          }
        }
      ]
    },
    {
      "cell_type": "markdown",
      "metadata": {
        "id": "0KP76TkmWxFj"
      },
      "source": [
        "The boxplot shows that for most of the platforms, 75% values are below 0.5 million USD. 95% values in the data are below 2 million USD."
      ]
    },
    {
      "cell_type": "code",
      "metadata": {
        "scrolled": true,
        "id": "2CcbwN-iWxFj",
        "outputId": "e676638e-32da-45da-c8e1-f02bd57cce26"
      },
      "source": [
        "print(data_new.pivot_table(index='platform', values='total_sales'))"
      ],
      "execution_count": null,
      "outputs": [
        {
          "output_type": "stream",
          "text": [
            "          total_sales\n",
            "platform             \n",
            "3DS          0.503535\n",
            "DC           0.129091\n",
            "DS           0.378660\n",
            "GB           0.924000\n",
            "GBA          0.386185\n",
            "GC           0.362970\n",
            "N64          0.333000\n",
            "PC           0.220945\n",
            "PS           0.388860\n",
            "PS2          0.584054\n",
            "PS3          0.713124\n",
            "PS4          0.801378\n",
            "PSP          0.242691\n",
            "PSV          0.125431\n",
            "WS           0.140000\n",
            "Wii          0.692986\n",
            "WiiU         0.559116\n",
            "X360         0.780227\n",
            "XB           0.312444\n",
            "XOne         0.645020\n"
          ],
          "name": "stdout"
        }
      ]
    },
    {
      "cell_type": "markdown",
      "metadata": {
        "id": "GtZR_IgcWxFk"
      },
      "source": [
        "The average sales vary among different platforms. The average varies from 0.1 million USD to 0.9 million USD. The platfroms with top sales, PS2, PS3, X360, Wii have average sales in the range of 0.5-0.8 million USD. However platform GB which is not in top 10, has much higher average sales because of outliers."
      ]
    },
    {
      "cell_type": "markdown",
      "metadata": {
        "id": "jCA8nGzhWxFk"
      },
      "source": [
        "#### 3g. Take a look at how user and professional reviews affect sales for one popular platform (you choose). Build a scatter plot and calculate the correlation between reviews and sales. Draw conclusions."
      ]
    },
    {
      "cell_type": "code",
      "metadata": {
        "scrolled": true,
        "id": "iAV7w97cWxFk",
        "outputId": "ab15b2fc-3086-4844-ee9e-44c298c93ddc"
      },
      "source": [
        "data_new1_ps2=data_new.query('platform==\"PS2\" and critic_score>-1')\n",
        "data_new1_ps2.plot(x='critic_score', y='total_sales', kind='scatter', alpha=0.3)\n",
        "data_new2_ps2=data_new.query('platform==\"PS2\" and user_score>-1')\n",
        "data_new2_ps2.plot(x='user_score', y='total_sales', kind='scatter', alpha=0.3)\n",
        "print(data_new1_ps2['total_sales'].corr(data_new1_ps2['critic_score']))\n",
        "print(data_new2_ps2['total_sales'].corr(data_new1_ps2['user_score']))"
      ],
      "execution_count": null,
      "outputs": [
        {
          "output_type": "stream",
          "text": [
            "0.3929255725800446\n",
            "0.16967010794637444\n"
          ],
          "name": "stdout"
        },
        {
          "output_type": "display_data",
          "data": {
            "image/png": "[encoded data removed]",
            "text/plain": [
              "<Figure size 432x288 with 1 Axes>"
            ]
          },
          "metadata": {
            "tags": [],
            "needs_background": "light"
          }
        },
        {
          "output_type": "display_data",
          "data": {
            "image/png": "[encoded data removed]",
            "text/plain": [
              "<Figure size 432x288 with 1 Axes>"
            ]
          },
          "metadata": {
            "tags": [],
            "needs_background": "light"
          }
        }
      ]
    },
    {
      "cell_type": "markdown",
      "metadata": {
        "id": "w9-fGrxFWxFl"
      },
      "source": [
        "I selected the PS2 platfrom because it has the maximum total_sales.\n",
        "\n",
        "The Pearson correlation between total_sales and critic_score is 0.39 while the coefficient between total_sales and user_score is 0.16. This implies that total_sales is not dependent on critic_score or user_score. We can also see from the scatter plot that, even if the critic_score and user_score increases, most of the sales are around 0. However, we can also see that most of the outliers only exist at high critic_score and user_score. This shows that certian games with very high critic_score and user_score only have very high sales."
      ]
    },
    {
      "cell_type": "markdown",
      "metadata": {
        "id": "Ee3CLTVXWxFl"
      },
      "source": [
        "#### 3h.Keeping your conclusions in mind, compare the sales of the same games on other platforms."
      ]
    },
    {
      "cell_type": "code",
      "metadata": {
        "scrolled": true,
        "id": "Yzg8YugqWxFl",
        "outputId": "b0f66aec-225c-4f8e-ca89-dbb011edbc6b"
      },
      "source": [
        "data_new_ps2=data_new.query('platform==\"PS2\"').sort_values(by='total_sales', ascending=False).head(10)\n",
        "print(data_new_ps2)\n",
        "data_top5=data_new_ps2['name'].head(5)\n",
        "print(data_top5)"
      ],
      "execution_count": null,
      "outputs": [
        {
          "output_type": "stream",
          "text": [
            "                              name platform  year_of_release         genre  \\\n",
            "17   Grand Theft Auto: San Andreas      PS2             2004        Action   \n",
            "24     Grand Theft Auto: Vice City      PS2             2002        Action   \n",
            "28          Gran Turismo 3: A-Spec      PS2             2001        Racing   \n",
            "38            Grand Theft Auto III      PS2             2001        Action   \n",
            "48                  Gran Turismo 4      PS2             2004        Racing   \n",
            "84                 Final Fantasy X      PS2             2001  Role-Playing   \n",
            "102     Need for Speed Underground      PS2             2003        Racing   \n",
            "113   Need for Speed Underground 2      PS2             2004        Racing   \n",
            "114      Medal of Honor: Frontline      PS2             2002       Shooter   \n",
            "132                 Kingdom Hearts      PS2             2002  Role-Playing   \n",
            "\n",
            "     na_sales  eu_sales  jp_sales  other_sales  critic_score  user_score  \\\n",
            "17       9.43      0.40      0.41        10.57            95         9.0   \n",
            "24       8.41      5.49      0.47         1.78            95         8.7   \n",
            "28       6.85      5.09      1.87         1.16            95         8.4   \n",
            "38       6.99      4.51      0.30         1.30            97         8.5   \n",
            "48       3.01      0.01      1.10         7.53            89         8.5   \n",
            "84       2.91      2.07      2.73         0.33            92         8.7   \n",
            "102      3.27      2.83      0.08         1.02            85         8.6   \n",
            "113      2.71      3.02      0.08         1.09            82         8.6   \n",
            "114      2.93      2.75      0.17         0.99            88         8.5   \n",
            "132      3.64      1.20      1.49         0.07            85         8.8   \n",
            "\n",
            "    rating  total_sales  \n",
            "17       M        20.81  \n",
            "24       M        16.15  \n",
            "28       E        14.97  \n",
            "38       M        13.10  \n",
            "48       E        11.65  \n",
            "84       T         8.04  \n",
            "102      E         7.20  \n",
            "113      E         6.90  \n",
            "114      T         6.84  \n",
            "132      E         6.40  \n",
            "17    Grand Theft Auto: San Andreas\n",
            "24      Grand Theft Auto: Vice City\n",
            "28           Gran Turismo 3: A-Spec\n",
            "38             Grand Theft Auto III\n",
            "48                   Gran Turismo 4\n",
            "Name: name, dtype: object\n"
          ],
          "name": "stdout"
        }
      ]
    },
    {
      "cell_type": "code",
      "metadata": {
        "scrolled": true,
        "id": "ISJXl8eIWxFm",
        "outputId": "9b5d0db3-5c91-4eb3-a0d2-59525c4461b2"
      },
      "source": [
        "print(data_new.query('name in @data_top5').pivot_table(index='name', columns='platform', values='total_sales', aggfunc='sum', fill_value=0))"
      ],
      "execution_count": null,
      "outputs": [
        {
          "output_type": "stream",
          "text": [
            "platform                         PC    PS2  X360    XB\n",
            "name                                                  \n",
            "Gran Turismo 3: A-Spec         0.00  14.97  0.00  0.00\n",
            "Gran Turismo 4                 0.00  11.65  0.00  0.00\n",
            "Grand Theft Auto III           0.01  13.10  0.00  0.00\n",
            "Grand Theft Auto: San Andreas  0.97  20.81  0.11  1.96\n",
            "Grand Theft Auto: Vice City    0.04  16.15  0.00  0.00\n"
          ],
          "name": "stdout"
        }
      ]
    },
    {
      "cell_type": "markdown",
      "metadata": {
        "id": "Yd1UeKPdWxFm"
      },
      "source": [
        "- In the list of top5 sales games, only Grand Theft Auto games exist on other platforms apart from PS2. However the sales are very less in other platforms."
      ]
    },
    {
      "cell_type": "markdown",
      "metadata": {
        "id": "7gsPu0rIWxFm"
      },
      "source": [
        "#### 3i.Take a look at the general distribution of games by genre. What can we say about the most profitable genres? Can you generalize about genres with high and low sales?"
      ]
    },
    {
      "cell_type": "code",
      "metadata": {
        "scrolled": true,
        "id": "uYPxwbBgWxFm",
        "outputId": "9f237d53-d96e-4cf8-fe67-262669075bd8"
      },
      "source": [
        "data_genre=data_new.groupby('genre')['total_sales'].agg(['sum', 'count', 'mean', 'std']).reset_index()\n",
        "print(data_genre)\n",
        "data_genre.plot(kind='bar', x='genre', y='sum', figsize=(12,5), legend=True)"
      ],
      "execution_count": null,
      "outputs": [
        {
          "output_type": "stream",
          "text": [
            "           genre      sum  count      mean       std\n",
            "0         Action  1492.18   3035  0.491657  1.139154\n",
            "1      Adventure   180.78   1178  0.153463  0.360180\n",
            "2       Fighting   291.64    611  0.477316  0.899890\n",
            "3           Misc   702.80   1577  0.445656  1.344268\n",
            "4       Platform   478.37    696  0.687313  1.932122\n",
            "5         Puzzle   134.37    467  0.287730  0.878194\n",
            "6         Racing   541.06    992  0.545423  1.717968\n",
            "7   Role-Playing   702.17   1271  0.552455  1.377960\n",
            "8        Shooter   905.87   1109  0.816835  1.752936\n",
            "9     Simulation   332.04    753  0.440956  1.246459\n",
            "10        Sports  1089.68   1898  0.574120  2.294477\n",
            "11      Strategy   106.53    533  0.199869  0.357908\n"
          ],
          "name": "stdout"
        },
        {
          "output_type": "execute_result",
          "data": {
            "text/plain": [
              "<matplotlib.axes._subplots.AxesSubplot at 0x7f304597bc50>"
            ]
          },
          "metadata": {
            "tags": []
          },
          "execution_count": 47
        },
        {
          "output_type": "display_data",
          "data": {
            "image/png": "[encoded data removed]",
            "text/plain": [
              "<Figure size 864x360 with 1 Axes>"
            ]
          },
          "metadata": {
            "tags": [],
            "needs_background": "light"
          }
        }
      ]
    },
    {
      "cell_type": "markdown",
      "metadata": {
        "id": "ceaYsyV2WxFn"
      },
      "source": [
        "1. Data from top5 sales games shows that out of top 5, 3 are from Action genere and 2 belong to racing. Action genre is also the most popular genre has it has more than 3000 games. The count for action genre is much higher then any other genere.\n",
        "2. The sales distribution bar chart shows that action genere has the maximum sales followed by sports and shooter.Sports also has the 2nd highest game count after action. However one exception is adventure. The no of games in adventure genre is very high but the sales are among the lowest. Henc ethe mean is lowest for adventure genere.\n",
        "3. Action has the maximum sales, but the mean is highest for shooter and platfrom which means they are the most profitable genres."
      ]
    },
    {
      "cell_type": "markdown",
      "metadata": {
        "id": "7dVP3bX9WxFn"
      },
      "source": [
        "### Step 4. Create a user profile for each region"
      ]
    },
    {
      "cell_type": "markdown",
      "metadata": {
        "id": "lMPQ2ZlAWxFn"
      },
      "source": [
        "#### 4a.The top five platforms. Describe variations in their market shares from region to region."
      ]
    },
    {
      "cell_type": "code",
      "metadata": {
        "scrolled": true,
        "id": "L_cs4wlLWxFo",
        "outputId": "2672f93c-dc07-4892-ed81-1a8c30fb444a"
      },
      "source": [
        "import warnings\n",
        "warnings.filterwarnings('ignore')\n",
        "\n",
        "data_new['ms_na']=data_new['na_sales']/data_new['na_sales'].sum()\n",
        "data_new['ms_eu']=data_new['eu_sales']/data_new['eu_sales'].sum()\n",
        "data_new['ms_jp']=data_new['jp_sales']/data_new['jp_sales'].sum()\n",
        "data_new['ms_oth']=data_new['other_sales']/data_new['other_sales'].sum()\n",
        "print(data_new.groupby('platform')[('na_sales','ms_na')].sum().sort_values(by='na_sales', ascending=False).head(5))\n",
        "print(data_new.groupby('platform')[('eu_sales','ms_eu')].sum().sort_values(by='eu_sales', ascending=False).head(5))\n",
        "print(data_new.groupby('platform')[('jp_sales','ms_jp')].sum().sort_values(by='jp_sales', ascending=False).head(5))\n",
        "print(data_new.groupby('platform')[('other_sales','ms_oth')].sum().sort_values(by='other_sales', ascending=False).head(5))"
      ],
      "execution_count": null,
      "outputs": [
        {
          "output_type": "stream",
          "text": [
            "          na_sales     ms_na\n",
            "platform                    \n",
            "X360        595.74  0.173427\n",
            "PS2         556.84  0.162103\n",
            "Wii         486.87  0.141733\n",
            "PS3         390.13  0.113571\n",
            "DS          380.31  0.110713\n",
            "          eu_sales     ms_eu\n",
            "platform                    \n",
            "PS3         327.21  0.160962\n",
            "PS2         321.99  0.158394\n",
            "X360        268.32  0.131993\n",
            "Wii         258.32  0.127073\n",
            "DS          188.41  0.092683\n",
            "          jp_sales     ms_jp\n",
            "platform                    \n",
            "DS          175.00  0.226376\n",
            "PS2         128.67  0.166445\n",
            "3DS         100.62  0.130160\n",
            "PS3          79.41  0.102723\n",
            "PSP          75.88  0.098157\n",
            "          other_sales    ms_oth\n",
            "platform                       \n",
            "PS2            186.89  0.260841\n",
            "PS3            134.59  0.187846\n",
            "X360            84.88  0.118466\n",
            "Wii             77.71  0.108459\n",
            "DS              59.04  0.082402\n"
          ],
          "name": "stdout"
        }
      ]
    },
    {
      "cell_type": "markdown",
      "metadata": {
        "id": "CzBAEIjkWxFo"
      },
      "source": [
        "1. PS2, PS3, X360, Wii and DS are the top 5 platfroms in all regions except for Japan where instead of X360 and Wii, 3DS and PSP are among top 5. \n",
        "2. PS2 has more than 15% market share in all the regions with highest in others (26%).\n",
        "3. PS3 has more than 10% market share in all the regions with highest in others (18%).\n",
        "4. DS has more than 8% market share in all the regions with highest in Japan (22%).\n",
        "5. X360 and Wii, both have more than 10% market share in all regions except Japan."
      ]
    },
    {
      "cell_type": "markdown",
      "metadata": {
        "id": "QE390rZKWxFo"
      },
      "source": [
        "#### 4b. The top five genres. Explain the difference."
      ]
    },
    {
      "cell_type": "code",
      "metadata": {
        "scrolled": true,
        "id": "ho0sTmywWxFo",
        "outputId": "f48378ee-f16f-4bd7-ace3-42ac1de228bf"
      },
      "source": [
        "print(data_new.groupby('genre')['na_sales'].sum().reset_index().sort_values(by='na_sales', ascending=False).head(5))\n",
        "print(data_new.groupby('genre')['eu_sales'].sum().reset_index().sort_values(by='eu_sales', ascending=False).head(5))\n",
        "print(data_new.groupby('genre')['jp_sales'].sum().reset_index().sort_values(by='jp_sales', ascending=False).head(5))\n",
        "print(data_new.groupby('genre')['other_sales'].sum().reset_index().sort_values(by='other_sales', ascending=False).head(5))"
      ],
      "execution_count": null,
      "outputs": [
        {
          "output_type": "stream",
          "text": [
            "           genre  na_sales\n",
            "0         Action    734.48\n",
            "10        Sports    566.64\n",
            "8        Shooter    491.23\n",
            "3           Misc    358.13\n",
            "7   Role-Playing    275.10\n",
            "      genre  eu_sales\n",
            "0    Action    455.74\n",
            "10   Sports    329.81\n",
            "8   Shooter    291.85\n",
            "3      Misc    191.80\n",
            "6    Racing    185.52\n",
            "           genre  jp_sales\n",
            "7   Role-Playing    225.91\n",
            "0         Action    128.49\n",
            "3           Misc     82.66\n",
            "10        Sports     69.52\n",
            "4       Platform     52.71\n",
            "      genre  other_sales\n",
            "0    Action       173.47\n",
            "10   Sports       123.71\n",
            "8   Shooter        99.71\n",
            "3      Misc        70.21\n",
            "6    Racing        67.64\n"
          ],
          "name": "stdout"
        }
      ]
    },
    {
      "cell_type": "markdown",
      "metadata": {
        "id": "xV6i_CQxWxFo"
      },
      "source": [
        "1. Action genre is the top sales gener in all the regions except for Japan where role-playing replaces action genre. \n",
        "2. Action and sports are among top 5 in all the regions\n",
        "3. Shooter, racing and role-playing are the other popular genres in the regions."
      ]
    },
    {
      "cell_type": "markdown",
      "metadata": {
        "id": "iAfjz4rpWxFp"
      },
      "source": [
        "#### 4c. Do ESRB ratings affect sales in individual regions?"
      ]
    },
    {
      "cell_type": "code",
      "metadata": {
        "scrolled": true,
        "id": "xkJF_decWxFp",
        "outputId": "ce70a902-7820-4083-c3ba-12b9c588e5a1"
      },
      "source": [
        "data_new['rating']=data_new['rating'].fillna('unknown')\n",
        "data_rating1=data_new.query('rating!=\"unknown\"').groupby('rating')[('na_sales','eu_sales','jp_sales','other_sales')].sum().reset_index()\n",
        "print(data_rating1)\n",
        "data_rating2=data_new.query('rating!=\"unknown\"').groupby('rating')[('ms_na','ms_eu','ms_jp','ms_oth')].sum().reset_index()\n",
        "print(data_rating2)"
      ],
      "execution_count": null,
      "outputs": [
        {
          "output_type": "stream",
          "text": [
            "  rating  na_sales  eu_sales  jp_sales  other_sales\n",
            "0     AO      1.26      0.61      0.00         0.09\n",
            "1      E   1225.21    675.38    187.27       226.14\n",
            "2   E10+    345.50    183.33     40.20        71.92\n",
            "3     EC      1.53      0.11      0.00         0.11\n",
            "4      M    725.87    470.66     57.16       173.90\n",
            "5     RP      0.00      0.03      0.00         0.01\n",
            "6      T    689.03    379.12    122.63       145.17\n",
            "  rating     ms_na     ms_eu     ms_jp    ms_oth\n",
            "0     AO  0.000367  0.000300  0.000000  0.000126\n",
            "1      E  0.356673  0.332235  0.242248  0.315622\n",
            "2   E10+  0.100579  0.090184  0.052002  0.100378\n",
            "3     EC  0.000445  0.000054  0.000000  0.000154\n",
            "4      M  0.211309  0.231528  0.073941  0.242711\n",
            "5     RP  0.000000  0.000015  0.000000  0.000014\n",
            "6      T  0.200585  0.186498  0.158631  0.202613\n"
          ],
          "name": "stdout"
        }
      ]
    },
    {
      "cell_type": "markdown",
      "metadata": {
        "id": "7jQjxEJhWxFp"
      },
      "source": [
        "- The data shows that ratings do impact the sales in the regions:\n",
        "1. Games with rating AO, EC, RP consistently has low or no sales in all the regions\n",
        "2. Games with rating E has the highest market share in all the regions followed by rating M and T. "
      ]
    },
    {
      "cell_type": "markdown",
      "metadata": {
        "id": "bJK1OL5ZWxFp"
      },
      "source": [
        "### Step 5. Test the following hypotheses:"
      ]
    },
    {
      "cell_type": "markdown",
      "metadata": {
        "id": "aOfEC1CpWxFq"
      },
      "source": [
        "#### 5a. Average user ratings of the Xbox One and PC platforms are the same."
      ]
    },
    {
      "cell_type": "code",
      "metadata": {
        "id": "kZ7p7NXJWxFq",
        "outputId": "8eb39442-3487-4517-98b1-64a261fb8e1d"
      },
      "source": [
        "user_rating_xbox=data_new.query('platform==\"XOne\" and user_score>-1')['user_score']\n",
        "user_rating_pc=data_new.query('platform==\"PC\" and user_score>-1')['user_score']\n",
        "\n",
        "#H0: The user rating for both the platforms are same\n",
        "from scipy import stats as st\n",
        "alpha=0.05\n",
        "result=st.ttest_ind(user_rating_xbox,user_rating_pc)\n",
        "print(\"p-value:\", result.pvalue)\n",
        "\n",
        "if (result.pvalue<alpha):\n",
        "    print('We reject the null hypothesis')\n",
        "else:\n",
        "    print('We cannot reject the null hypothsis')"
      ],
      "execution_count": null,
      "outputs": [
        {
          "output_type": "stream",
          "text": [
            "p-value: 5.195035813817873e-05\n",
            "We reject the null hypothesis\n"
          ],
          "name": "stdout"
        }
      ]
    },
    {
      "cell_type": "markdown",
      "metadata": {
        "id": "Ugo6iqrFWxFq"
      },
      "source": [
        "#### 5b. Average user ratings for the Action and Sports genres are different."
      ]
    },
    {
      "cell_type": "code",
      "metadata": {
        "id": "6r-1QU1iWxFq",
        "outputId": "9511cff2-cf23-4530-bd39-f97ffae7d212"
      },
      "source": [
        "user_rating_action=data_new.query('genre==\"Action\" and user_score>-1')['user_score']\n",
        "user_rating_sports=data_new.query('genre==\"Sports\" and user_score>-1')['user_score']\n",
        "\n",
        "#H0: The average user rating for action and sports genres are same\n",
        "\n",
        "alpha=0.05\n",
        "result=st.ttest_ind(user_rating_action,user_rating_sports)\n",
        "print(\"p-value:\",result.pvalue)\n",
        "\n",
        "if (result.pvalue<alpha):\n",
        "    print('We reject the null hypothesis')\n",
        "else:\n",
        "    print('We cannot reject the null hypothesis')"
      ],
      "execution_count": null,
      "outputs": [
        {
          "output_type": "stream",
          "text": [
            "p-value: 0.06727906596341816\n",
            "We cannot reject the null hypothesis\n"
          ],
          "name": "stdout"
        }
      ]
    },
    {
      "cell_type": "markdown",
      "metadata": {
        "id": "mx94zdizWxFr"
      },
      "source": [
        "1. Null hypothesis assumes there is no difference and alternate hypotheiss is the opposite of null hypothesis. \n",
        "2. Level of significance is the probability of rejecting null hypothesis when it is true.5% is usually the approprite level of significane, not too low (as for 1%) and not too high (as for 10%). \n",
        "\n",
        "Hypotheiss testing shows that average user rating for XOne and PC are not same. The p-value for the test is 0.005% i.e. the probabilty of the observed difference between the mean of the two platfroms is only 0.005% which is much lower than alpha. Hence we reject the null hypothesis.\n",
        "\n",
        "Hypothesis testing shows that average user rating for action and sports genres are same. The probabilty of the observed difference between the two means of action and sports genere is 6.7% which is higher than alpha. Hence we cannot reject the null hypothesis."
      ]
    },
    {
      "cell_type": "markdown",
      "metadata": {
        "id": "i6C3EbMtWxFr"
      },
      "source": [
        "### Step 6. Write a general conclusion"
      ]
    },
    {
      "cell_type": "markdown",
      "metadata": {
        "id": "M1vxJPSgWxFr"
      },
      "source": [
        "#### Overall Conclusion:\n",
        "\n",
        "1. Based on the data analysis, it appears that the Japan market is very different as compared to the rest of the regions. The geners and platforms popular in Japan are different from other regions.\n",
        "2. Action gener is the most popular genre with maximum no of games folowed by Sports genre. However, shooter and platfrom are the most profitable ones with highest average sales per game.\n",
        "3. Most of the games have the total sales in the range of 0-2 million USD. However there are some games with sales above 20 million USD. Maximum sales for a game is 82.5 million USD.\n",
        "4. PS4 and XOne are the latest launches in 2013. PS4 has the maximum market share followed by XOne. Sales for rest of the platforms are decreasing.\n",
        "5. The sales of the games looks to be independant of the critic score or user score. However ESRB rarting seems to effect the sales."
      ]
    }
  ]
}